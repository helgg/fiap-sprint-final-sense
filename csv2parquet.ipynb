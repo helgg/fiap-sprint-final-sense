{
 "cells": [
  {
   "cell_type": "code",
   "execution_count": null,
   "id": "bd7ee9ee",
   "metadata": {},
   "outputs": [],
   "source": [
    "import pandas as pd\n",
    "import os\n",
    "import fastparquet"
   ]
  },
  {
   "cell_type": "code",
   "execution_count": 3,
   "id": "7b645c0b",
   "metadata": {},
   "outputs": [
    {
     "name": "stdout",
     "output_type": "stream",
     "text": [
      "O Path está incorreto ou não pode ser acessado\n"
     ]
    }
   ],
   "source": [
    "path = input('Path onde estão os arquivos CSV')\n",
    "try:\n",
    "    list_file = os.listdir(path)\n",
    "except:\n",
    "    print('O Path está incorreto ou não pode ser acessado')\n",
    "save_path = r'Data\\parquet'"
   ]
  },
  {
   "cell_type": "code",
   "execution_count": null,
   "id": "ed5dbc19",
   "metadata": {},
   "outputs": [],
   "source": [
    "for i in list_file:\n",
    "    if ('telemetria_' in i):\n",
    "        try:\n",
    "            df = pd.read_csv(os.path.join(path,i),sep=',', encoding='utf-8')\n",
    "            print('\\n',i)\n",
    "            display(df.head(3))\n",
    "            df.to_parquet(os.path.join(save_path,i).replace('csv','parquet'),compression='gzip')\n",
    "\n",
    "        except:\n",
    "            df = pd.read_csv(os.path.join(path,i),sep=',', encoding='iso-8859-1')\n",
    "            print('\\n',i)\n",
    "            display(df.head(3))\n",
    "            df.to_parquet(os.path.join(save_path,i).replace('csv','parquet'),compression='gzip')\n",
    "\n",
    "    elif ('telemetria_' not in i) and (i.endswith('.csv')):\n",
    "        try:\n",
    "            df = pd.read_csv(os.path.join(path,i),sep=';', encoding='utf-8')\n",
    "            print('\\n',i)\n",
    "            display(df.head(3))\n",
    "            df.to_parquet(os.path.join(save_path,i).replace('csv','parquet'),compression='gzip')\n",
    "        except:\n",
    "            df = pd.read_csv(os.path.join(path,i),sep=';', encoding='iso-8859-1')\n",
    "            print('\\n',i)\n",
    "            display(df.head(3))\n",
    "            df.to_parquet(os.path.join(save_path,i).replace('csv','parquet'),compression='gzip')\n",
    "    else:\n",
    "        None\n"
   ]
  }
 ],
 "metadata": {
  "kernelspec": {
   "display_name": "venv",
   "language": "python",
   "name": "python3"
  },
  "language_info": {
   "codemirror_mode": {
    "name": "ipython",
    "version": 3
   },
   "file_extension": ".py",
   "mimetype": "text/x-python",
   "name": "python",
   "nbconvert_exporter": "python",
   "pygments_lexer": "ipython3",
   "version": "3.13.3"
  }
 },
 "nbformat": 4,
 "nbformat_minor": 5
}
